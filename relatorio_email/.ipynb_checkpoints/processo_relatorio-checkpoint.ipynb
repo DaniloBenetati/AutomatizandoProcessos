{
 "cells": [
  {
   "cell_type": "code",
   "execution_count": 1,
   "id": "011a5e9b",
   "metadata": {},
   "outputs": [],
   "source": [
    "# Bibliotecas\n",
    "import pandas as pd\n",
    "import win32com.client as win32"
   ]
  },
  {
   "cell_type": "code",
   "execution_count": null,
   "id": "33b5fd8e",
   "metadata": {},
   "outputs": [],
   "source": [
    "# importar a base de dados\n",
    "vendas_df = pd.read_excel('Vendas.xlsx')"
   ]
  },
  {
   "cell_type": "code",
   "execution_count": null,
   "id": "a5d51bff",
   "metadata": {},
   "outputs": [],
   "source": [
    "# mostrar todas as colunas na visualização\n",
    "pd.set_option('display.max_columns', None)\n",
    "# visualiar a base de dados\n",
    "display(vendas_df)"
   ]
  },
  {
   "cell_type": "code",
   "execution_count": null,
   "id": "f1817f5f",
   "metadata": {},
   "outputs": [],
   "source": [
    "# faturamento por loja\n",
    "faturamento_por_loja_df = vendas_df[['ID Loja','Valor Final']].groupby('ID Loja').sum()\n",
    "display(faturamento_por_loja_df)"
   ]
  },
  {
   "cell_type": "code",
   "execution_count": null,
   "id": "8ea130e4",
   "metadata": {},
   "outputs": [],
   "source": [
    "# quantidade de produtos vendidos por loja\n",
    "produtos_por_loja_df = vendas_df[['ID Loja','Quantidade']].groupby('ID Loja').sum()\n",
    "display(produtos_por_loja_df)"
   ]
  },
  {
   "cell_type": "code",
   "execution_count": null,
   "id": "5ac60fcd",
   "metadata": {},
   "outputs": [],
   "source": [
    "# ticket médio por produto em cada loja\n",
    "ticket_medio_por_loja_df = (faturamento_por_loja_df['Valor Final'] / produtos_por_loja_df['Quantidade']).to_frame()\n",
    "# renomear coluna\n",
    "ticket_medio_por_loja_df = ticket_medio_por_loja_df.rename(columns={0: 'Ticket Médio'})\n",
    "display(ticket_medio_por_loja_df)"
   ]
  },
  {
   "cell_type": "code",
   "execution_count": null,
   "id": "ef3bd3b0",
   "metadata": {},
   "outputs": [],
   "source": [
    "# enviar um email com o relatório\n",
    "\n",
    "outlook = win32.Dispatch('outlook.application')\n",
    "mail = outlook.CreateItem(0)\n",
    "mail.To = 'dbenetati@gmail.com'\n",
    "mail.Subject = 'Relatório de Vendas por Loja'\n",
    "mail.Body = 'Message body'\n",
    "mail.HTMLBody = f'''\n",
    "<p>Prezados,</p> \n",
    "\n",
    "<p>Segue o relatório diário de faturamento por lojas.</p>\n",
    "\n",
    "<p>Faturamento:</p>\n",
    "{faturamento_por_loja_df.to_html(formatters={'Valor Final':'R${:,.2f}'.format})}\n",
    "\n",
    "\n",
    "<p>Quantidade vendida:</p>\n",
    "{produtos_por_loja_df.to_html()}\n",
    "\n",
    "<p>Ticket médio dos produtos em cada loja</p>\n",
    "{ticket_medio_por_loja_df.to_html(formatters={'Ticket Médio':'R${:,.2f}'.format})}\n",
    "\n",
    "\n",
    "<p>Qualquer duvida estou a disposição</p>\n",
    "\n",
    "<p>Att.</p>\n",
    "<p>Danilo Souza</p>\n",
    "\n",
    "''' \n",
    "mail.Send()"
   ]
  },
  {
   "cell_type": "code",
   "execution_count": null,
   "id": "c4d64ddf",
   "metadata": {},
   "outputs": [],
   "source": []
  }
 ],
 "metadata": {
  "kernelspec": {
   "display_name": "Python 3 (ipykernel)",
   "language": "python",
   "name": "python3"
  },
  "language_info": {
   "codemirror_mode": {
    "name": "ipython",
    "version": 3
   },
   "file_extension": ".py",
   "mimetype": "text/x-python",
   "name": "python",
   "nbconvert_exporter": "python",
   "pygments_lexer": "ipython3",
   "version": "3.9.7"
  }
 },
 "nbformat": 4,
 "nbformat_minor": 5
}
